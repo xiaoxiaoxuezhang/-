{
 "cells": [
  {
   "cell_type": "markdown",
   "id": "115e44be-7f62-48b9-b7b1-2bf440904df8",
   "metadata": {},
   "source": [
    "## 导入工具包"
   ]
  },
  {
   "cell_type": "code",
   "execution_count": 1,
   "id": "d11c29c9-de4f-45a0-bdef-2f727be2b469",
   "metadata": {},
   "outputs": [],
   "source": [
    "import os\n",
    "import numpy as np\n",
    "import pandas as pd\n",
    "import cv2\n",
    "\n",
    "from tqdm import tqdm\n",
    "\n",
    "import matplotlib.pyplot as plt\n",
    "%matplotlib inline"
   ]
  },
  {
   "cell_type": "markdown",
   "id": "df140610-cd22-4a2c-9a85-1559f32d8eb9",
   "metadata": {},
   "source": [
    "## 指定数据集路径"
   ]
  },
  {
   "cell_type": "code",
   "execution_count": 2,
   "id": "055e8a00-7726-4a0a-a002-5dc13c66dfaf",
   "metadata": {},
   "outputs": [
    {
     "data": {
      "text/plain": [
       "['body_broken', 'normal', 'side_broken', 'top_broken']"
      ]
     },
     "execution_count": 2,
     "metadata": {},
     "output_type": "execute_result"
    }
   ],
   "source": [
    "# 指定数据集路径\n",
    "dataset_path = 'jiyouguan'\n",
    "os.chdir(dataset_path)\n",
    "os.listdir()"
   ]
  },
  {
   "cell_type": "markdown",
   "id": "b0adde4b-028a-4c4e-a402-e5af916ee120",
   "metadata": {},
   "source": [
    "<!-- \n",
    "os.listdir() 函数返回当前目录下所有的文件和文件夹，os.chdir() 函数用来切换当前工作目录。\n",
    "pd.DataFrame() 创建一个空的 pandas DataFrame。\n",
    "for fruit in tqdm(os.listdir()): 遍历每个类别，tqdm 是一个 Python 进度条库，用来显示遍历进度。\n",
    "os.chdir(fruit) 切换到当前类别的目录。\n",
    "for file in os.listdir(): 遍历当前目录下的所有图片文件。\n",
    "img = cv2.imread(file) 读取当前图片文件。\n",
    "df = df.append({...}, ignore_index=True) 将当前图片的类别、文件名、图像宽和图像高添加到 pandas DataFrame 中。 \n",
    "-->"
   ]
  },
  {
   "cell_type": "code",
   "execution_count": 3,
   "id": "77beae62-7183-4780-83d6-bedaf85c3539",
   "metadata": {},
   "outputs": [
    {
     "name": "stderr",
     "output_type": "stream",
     "text": [
      "100%|██████████| 4/4 [00:46<00:00, 11.52s/it]\n"
     ]
    }
   ],
   "source": [
    "df = pd.DataFrame()\n",
    "for pot in tqdm(os.listdir()): # 遍历每个类别    \n",
    "    os.chdir(pot)\n",
    "    for file in os.listdir(): # 遍历每张图像\n",
    "        try:\n",
    "            img = cv2.imread(file)\n",
    "            df = df.append({'类别':pot, '文件名':file, '图像宽':img.shape[1], '图像高':img.shape[0]}, ignore_index=True)\n",
    "        except:\n",
    "            print(os.path.join(fruit, file), '读取错误')\n",
    "    os.chdir('../')\n",
    "os.chdir('../')"
   ]
  },
  {
   "cell_type": "code",
   "execution_count": 4,
   "id": "b87e2069-ac01-4269-8346-bf2f54abd475",
   "metadata": {},
   "outputs": [
    {
     "data": {
      "text/html": [
       "<div>\n",
       "<style scoped>\n",
       "    .dataframe tbody tr th:only-of-type {\n",
       "        vertical-align: middle;\n",
       "    }\n",
       "\n",
       "    .dataframe tbody tr th {\n",
       "        vertical-align: top;\n",
       "    }\n",
       "\n",
       "    .dataframe thead th {\n",
       "        text-align: right;\n",
       "    }\n",
       "</style>\n",
       "<table border=\"1\" class=\"dataframe\">\n",
       "  <thead>\n",
       "    <tr style=\"text-align: right;\">\n",
       "      <th></th>\n",
       "      <th>类别</th>\n",
       "      <th>文件名</th>\n",
       "      <th>图像宽</th>\n",
       "      <th>图像高</th>\n",
       "    </tr>\n",
       "  </thead>\n",
       "  <tbody>\n",
       "    <tr>\n",
       "      <th>0</th>\n",
       "      <td>body_broken</td>\n",
       "      <td>body_broken10_frame0.jpg</td>\n",
       "      <td>1080.0</td>\n",
       "      <td>1920.0</td>\n",
       "    </tr>\n",
       "    <tr>\n",
       "      <th>1</th>\n",
       "      <td>body_broken</td>\n",
       "      <td>body_broken10_frame1.jpg</td>\n",
       "      <td>1080.0</td>\n",
       "      <td>1920.0</td>\n",
       "    </tr>\n",
       "    <tr>\n",
       "      <th>2</th>\n",
       "      <td>body_broken</td>\n",
       "      <td>body_broken10_frame2.jpg</td>\n",
       "      <td>1080.0</td>\n",
       "      <td>1920.0</td>\n",
       "    </tr>\n",
       "    <tr>\n",
       "      <th>3</th>\n",
       "      <td>body_broken</td>\n",
       "      <td>body_broken10_frame3.jpg</td>\n",
       "      <td>1080.0</td>\n",
       "      <td>1920.0</td>\n",
       "    </tr>\n",
       "    <tr>\n",
       "      <th>4</th>\n",
       "      <td>body_broken</td>\n",
       "      <td>body_broken10_frame4.jpg</td>\n",
       "      <td>1080.0</td>\n",
       "      <td>1920.0</td>\n",
       "    </tr>\n",
       "    <tr>\n",
       "      <th>...</th>\n",
       "      <td>...</td>\n",
       "      <td>...</td>\n",
       "      <td>...</td>\n",
       "      <td>...</td>\n",
       "    </tr>\n",
       "    <tr>\n",
       "      <th>1764</th>\n",
       "      <td>top_broken</td>\n",
       "      <td>top_broken9_frame5.jpg</td>\n",
       "      <td>1080.0</td>\n",
       "      <td>1920.0</td>\n",
       "    </tr>\n",
       "    <tr>\n",
       "      <th>1765</th>\n",
       "      <td>top_broken</td>\n",
       "      <td>top_broken9_frame6.jpg</td>\n",
       "      <td>1080.0</td>\n",
       "      <td>1920.0</td>\n",
       "    </tr>\n",
       "    <tr>\n",
       "      <th>1766</th>\n",
       "      <td>top_broken</td>\n",
       "      <td>top_broken9_frame7.jpg</td>\n",
       "      <td>1080.0</td>\n",
       "      <td>1920.0</td>\n",
       "    </tr>\n",
       "    <tr>\n",
       "      <th>1767</th>\n",
       "      <td>top_broken</td>\n",
       "      <td>top_broken9_frame8.jpg</td>\n",
       "      <td>1080.0</td>\n",
       "      <td>1920.0</td>\n",
       "    </tr>\n",
       "    <tr>\n",
       "      <th>1768</th>\n",
       "      <td>top_broken</td>\n",
       "      <td>top_broken9_frame9.jpg</td>\n",
       "      <td>1080.0</td>\n",
       "      <td>1920.0</td>\n",
       "    </tr>\n",
       "  </tbody>\n",
       "</table>\n",
       "<p>1769 rows × 4 columns</p>\n",
       "</div>"
      ],
      "text/plain": [
       "               类别                       文件名     图像宽     图像高\n",
       "0     body_broken  body_broken10_frame0.jpg  1080.0  1920.0\n",
       "1     body_broken  body_broken10_frame1.jpg  1080.0  1920.0\n",
       "2     body_broken  body_broken10_frame2.jpg  1080.0  1920.0\n",
       "3     body_broken  body_broken10_frame3.jpg  1080.0  1920.0\n",
       "4     body_broken  body_broken10_frame4.jpg  1080.0  1920.0\n",
       "...           ...                       ...     ...     ...\n",
       "1764   top_broken    top_broken9_frame5.jpg  1080.0  1920.0\n",
       "1765   top_broken    top_broken9_frame6.jpg  1080.0  1920.0\n",
       "1766   top_broken    top_broken9_frame7.jpg  1080.0  1920.0\n",
       "1767   top_broken    top_broken9_frame8.jpg  1080.0  1920.0\n",
       "1768   top_broken    top_broken9_frame9.jpg  1080.0  1920.0\n",
       "\n",
       "[1769 rows x 4 columns]"
      ]
     },
     "execution_count": 4,
     "metadata": {},
     "output_type": "execute_result"
    }
   ],
   "source": [
    "df"
   ]
  },
  {
   "cell_type": "markdown",
   "id": "ed352515-e77c-400c-a439-e8a4dd6f0ccd",
   "metadata": {},
   "source": [
    "## 可视化图像尺寸分布"
   ]
  },
  {
   "cell_type": "code",
   "execution_count": 5,
   "id": "36c57c33-87f5-4d12-ae13-4a8f9c11ee9c",
   "metadata": {},
   "outputs": [
    {
     "data": {
      "image/png": "[encoded data removed]",
      "text/plain": [
       "<Figure size 720x720 with 1 Axes>"
      ]
     },
     "metadata": {
      "needs_background": "light"
     },
     "output_type": "display_data"
    }
   ],
   "source": [
    "from scipy.stats import gaussian_kde\n",
    "from matplotlib.colors import LogNorm\n",
    "\n",
    "x = df['图像宽']\n",
    "y = df['图像高']\n",
    "\n",
    "xy = np.vstack([x,y])\n",
    "z = gaussian_kde(xy, bw_method='silverman')(xy)\n",
    "\n",
    "#z = gaussian_kde(xy)(xy)\n",
    "\n",
    "# Sort the points by density, so that the densest points are plotted last\n",
    "idx = z.argsort()\n",
    "x, y, z = x[idx], y[idx], z[idx]\n",
    "\n",
    "plt.figure(figsize=(10,10))\n",
    "# plt.figure(figsize=(12,12))\n",
    "plt.scatter(x, y, c=z,  s=5, cmap='Spectral_r')\n",
    "# plt.colorbar()\n",
    "# plt.xticks([])\n",
    "# plt.yticks([])\n",
    "\n",
    "plt.tick_params(labelsize=15)\n",
    "\n",
    "xy_max = max(max(df['图像宽']), max(df['图像高']))\n",
    "plt.xlim(xmin=0, xmax=xy_max)\n",
    "plt.ylim(ymin=0, ymax=xy_max)\n",
    "# plt.xlim(xmin=0, xmax=5000)\n",
    "# plt.ylim(ymin=0, ymax=5000)\n",
    "\n",
    "plt.ylabel('height', fontsize=25)\n",
    "plt.xlabel('width', fontsize=25)\n",
    "\n",
    "plt.savefig('图像尺寸分布.pdf', dpi=120, bbox_inches='tight')\n",
    "\n",
    "plt.show()"
   ]
  },
  {
   "cell_type": "code",
   "execution_count": 16,
   "id": "6d9e1800-5edb-4af8-930d-e43863686daa",
   "metadata": {},
   "outputs": [],
   "source": [
    "# from PIL import Image\n",
    "# import os\n",
    "\n",
    "# # 文件夹路径\n",
    "# folder_path = 'youguan_full/photo_normal'\n",
    "\n",
    "# # 遍历文件夹中的所有文件\n",
    "# for file_name in os.listdir(folder_path):\n",
    "#     # 如果是图片文件\n",
    "#     if file_name.endswith('.jpg') or file_name.endswith('.png'):\n",
    "#         # 拼接完整文件路径\n",
    "#         file_path = os.path.join(folder_path, file_name)\n",
    "#         # 打开图像\n",
    "#         img = Image.open(file_path)\n",
    "#         # 如果图像是1080*1920像素\n",
    "#         if img.size == (1080, 1920):\n",
    "#             # 旋转90度\n",
    "#             img = img.transpose(Image.ROTATE_90)\n",
    "#             # 保存图像\n",
    "#             img.save(file_path)\n"
   ]
  },
  {
   "cell_type": "code",
   "execution_count": null,
   "id": "5dae0b0c-b8fd-4618-9137-2a0aefc49aa4",
   "metadata": {},
   "outputs": [],
   "source": []
  }
 ],
 "metadata": {
  "kernelspec": {
   "display_name": "Python 3 (ipykernel)",
   "language": "python",
   "name": "python3"
  },
  "language_info": {
   "codemirror_mode": {
    "name": "ipython",
    "version": 3
   },
   "file_extension": ".py",
   "mimetype": "text/x-python",
   "name": "python",
   "nbconvert_exporter": "python",
   "pygments_lexer": "ipython3",
   "version": "3.7.10"
  }
 },
 "nbformat": 4,
 "nbformat_minor": 5
}
