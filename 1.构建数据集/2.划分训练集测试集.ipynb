{
 "cells": [
  {
   "cell_type": "markdown",
   "id": "aa621a92-e18e-46a0-aefb-5e57d4374f7b",
   "metadata": {},
   "source": [
    "## 导入工具包"
   ]
  },
  {
   "cell_type": "code",
   "execution_count": 1,
   "id": "acfeb9c9-2a3e-45cf-bd07-3472d09519d6",
   "metadata": {},
   "outputs": [],
   "source": [
    "import os\n",
    "import shutil\n",
    "import random\n",
    "import pandas as pd"
   ]
  },
  {
   "cell_type": "markdown",
   "id": "ea237880-2fa1-4aff-a1d3-56e616f6a897",
   "metadata": {},
   "source": [
    "## 获得所有类别名称"
   ]
  },
  {
   "cell_type": "code",
   "execution_count": 2,
   "id": "512a0bda-f31f-4f26-b727-85369eebca48",
   "metadata": {},
   "outputs": [],
   "source": [
    "# 指定数据集路径\n",
    "dataset_path = 'jiyouguan'"
   ]
  },
  {
   "cell_type": "code",
   "execution_count": 3,
   "id": "a59265d8-848b-45d4-9cb1-5d43c81f8e6a",
   "metadata": {},
   "outputs": [
    {
     "name": "stdout",
     "output_type": "stream",
     "text": [
      "数据集 jiyouguan\n"
     ]
    }
   ],
   "source": [
    "dataset_name = dataset_path.split('_')[0]\n",
    "print('数据集', dataset_name)"
   ]
  },
  {
   "cell_type": "code",
   "execution_count": 4,
   "id": "3b62be1b-f42a-4477-8b44-2dd12817e44f",
   "metadata": {},
   "outputs": [],
   "source": [
    "classes = os.listdir(dataset_path)"
   ]
  },
  {
   "cell_type": "code",
   "execution_count": 5,
   "id": "a51ea20e-ba30-499d-8d93-b6448e584465",
   "metadata": {},
   "outputs": [
    {
     "data": {
      "text/plain": [
       "4"
      ]
     },
     "execution_count": 5,
     "metadata": {},
     "output_type": "execute_result"
    }
   ],
   "source": [
    "len(classes)"
   ]
  },
  {
   "cell_type": "code",
   "execution_count": 6,
   "id": "af01e960-d178-4cff-bc8b-ce1520d642c1",
   "metadata": {},
   "outputs": [
    {
     "data": {
      "text/plain": [
       "['body_broken', 'normal', 'side_broken', 'top_broken']"
      ]
     },
     "execution_count": 6,
     "metadata": {},
     "output_type": "execute_result"
    }
   ],
   "source": [
    "classes"
   ]
  },
  {
   "cell_type": "markdown",
   "id": "a6b4d257-5bdc-4830-bb34-6936e04916ad",
   "metadata": {},
   "source": [
    "## 创建训练集文件夹和测试集文件夹"
   ]
  },
  {
   "cell_type": "code",
   "execution_count": 7,
   "id": "522222b5-9128-420d-a134-fb0b4cdc38ca",
   "metadata": {},
   "outputs": [],
   "source": [
    "# 创建 train 文件夹\n",
    "os.mkdir(os.path.join(dataset_path, 'train'))\n",
    "\n",
    "# 创建 test 文件夹\n",
    "os.mkdir(os.path.join(dataset_path, 'val'))\n",
    "\n",
    "# 在 train 和 test 文件夹中创建各类别子文件夹\n",
    "for youguan in classes:\n",
    "    os.mkdir(os.path.join(dataset_path, 'train', youguan))\n",
    "    os.mkdir(os.path.join(dataset_path, 'val', youguan))"
   ]
  },
  {
   "cell_type": "markdown",
   "id": "b890d0aa-4563-4f92-ac35-771acb588604",
   "metadata": {},
   "source": [
    "## 划分训练集、测试集，移动文件"
   ]
  },
  {
   "cell_type": "code",
   "execution_count": 8,
   "id": "eb2ad0c2-e3c6-481c-8589-51cdd2aeb516",
   "metadata": {},
   "outputs": [],
   "source": [
    "test_frac = 0.2  # 测试集比例\n",
    "random.seed(123) # 随机数种子，便于复现"
   ]
  },
  {
   "cell_type": "code",
   "execution_count": 9,
   "id": "3ef9944c-a36d-4d62-a38b-78faa33fb9f1",
   "metadata": {},
   "outputs": [
    {
     "name": "stdout",
     "output_type": "stream",
     "text": [
      "        类别              训练集数据个数            测试集数据个数      \n",
      "   body_broken            441                110        \n",
      "      normal              717                179        \n",
      "   side_broken            121                 30        \n",
      "    top_broken            137                 34        \n"
     ]
    }
   ],
   "source": [
    "df = pd.DataFrame()\n",
    "\n",
    "print('{:^18} {:^18} {:^18}'.format('类别', '训练集数据个数', '测试集数据个数'))\n",
    "\n",
    "for youguan in classes: # 遍历每个类别\n",
    "\n",
    "    # 读取该类别的所有图像文件名\n",
    "    old_dir = os.path.join(dataset_path, youguan)\n",
    "    images_filename = os.listdir(old_dir)\n",
    "    random.shuffle(images_filename) # 随机打乱\n",
    "\n",
    "    # 划分训练集和测试集\n",
    "    testset_numer = int(len(images_filename) * test_frac) # 测试集图像个数\n",
    "    testset_images = images_filename[:testset_numer]      # 获取拟移动至 test 目录的测试集图像文件名\n",
    "    trainset_images = images_filename[testset_numer:]     # 获取拟移动至 train 目录的训练集图像文件名\n",
    "\n",
    "    # 移动图像至 test 目录\n",
    "    for image in testset_images:\n",
    "        old_img_path = os.path.join(dataset_path, youguan, image)         # 获取原始文件路径\n",
    "        new_test_path = os.path.join(dataset_path, 'val', youguan, image) # 获取 test 目录的新文件路径\n",
    "        shutil.move(old_img_path, new_test_path) # 移动文件\n",
    "\n",
    "    # 移动图像至 train 目录\n",
    "    for image in trainset_images:\n",
    "        old_img_path = os.path.join(dataset_path, youguan, image)           # 获取原始文件路径\n",
    "        new_train_path = os.path.join(dataset_path, 'train',youguan, image) # 获取 train 目录的新文件路径\n",
    "        shutil.move(old_img_path, new_train_path) # 移动文件\n",
    "    \n",
    "    # 删除旧文件夹\n",
    "    assert len(os.listdir(old_dir)) == 0 # 确保旧文件夹中的所有图像都被移动走\n",
    "    shutil.rmtree(old_dir) # 删除文件夹\n",
    "    \n",
    "    # 工整地输出每一类别的数据个数\n",
    "    print('{:^18} {:^18} {:^18}'.format(youguan, len(trainset_images), len(testset_images)))\n",
    "    \n",
    "    # 保存到表格中\n",
    "    df = df.append({'class':youguan, 'trainset':len(trainset_images), 'testset':len(testset_images)}, ignore_index=True)\n",
    "\n",
    "# 重命名数据集文件夹\n",
    "shutil.move(dataset_path, dataset_name+'_split')\n",
    "\n",
    "# 数据集各类别数量统计表格，导出为 csv 文件\n",
    "df['total'] = df['trainset'] + df['testset']\n",
    "df.to_csv('数据量统计.csv', index=False)"
   ]
  },
  {
   "cell_type": "code",
   "execution_count": 10,
   "id": "2ca80db6-9537-4203-9e1c-8873c473a95c",
   "metadata": {},
   "outputs": [
    {
     "data": {
      "text/html": [
       "<div>\n",
       "<style scoped>\n",
       "    .dataframe tbody tr th:only-of-type {\n",
       "        vertical-align: middle;\n",
       "    }\n",
       "\n",
       "    .dataframe tbody tr th {\n",
       "        vertical-align: top;\n",
       "    }\n",
       "\n",
       "    .dataframe thead th {\n",
       "        text-align: right;\n",
       "    }\n",
       "</style>\n",
       "<table border=\"1\" class=\"dataframe\">\n",
       "  <thead>\n",
       "    <tr style=\"text-align: right;\">\n",
       "      <th></th>\n",
       "      <th>class</th>\n",
       "      <th>trainset</th>\n",
       "      <th>testset</th>\n",
       "      <th>total</th>\n",
       "    </tr>\n",
       "  </thead>\n",
       "  <tbody>\n",
       "    <tr>\n",
       "      <th>0</th>\n",
       "      <td>body_broken</td>\n",
       "      <td>441.0</td>\n",
       "      <td>110.0</td>\n",
       "      <td>551.0</td>\n",
       "    </tr>\n",
       "    <tr>\n",
       "      <th>1</th>\n",
       "      <td>normal</td>\n",
       "      <td>717.0</td>\n",
       "      <td>179.0</td>\n",
       "      <td>896.0</td>\n",
       "    </tr>\n",
       "    <tr>\n",
       "      <th>2</th>\n",
       "      <td>side_broken</td>\n",
       "      <td>121.0</td>\n",
       "      <td>30.0</td>\n",
       "      <td>151.0</td>\n",
       "    </tr>\n",
       "    <tr>\n",
       "      <th>3</th>\n",
       "      <td>top_broken</td>\n",
       "      <td>137.0</td>\n",
       "      <td>34.0</td>\n",
       "      <td>171.0</td>\n",
       "    </tr>\n",
       "  </tbody>\n",
       "</table>\n",
       "</div>"
      ],
      "text/plain": [
       "         class  trainset  testset  total\n",
       "0  body_broken     441.0    110.0  551.0\n",
       "1       normal     717.0    179.0  896.0\n",
       "2  side_broken     121.0     30.0  151.0\n",
       "3   top_broken     137.0     34.0  171.0"
      ]
     },
     "execution_count": 10,
     "metadata": {},
     "output_type": "execute_result"
    }
   ],
   "source": [
    "df"
   ]
  },
  {
   "cell_type": "markdown",
   "id": "a7f90207-20e0-4de0-a916-73422856b095",
   "metadata": {},
   "source": [
    "## 查看文件目录结构"
   ]
  },
  {
   "cell_type": "code",
   "execution_count": 11,
   "id": "e435f029-f876-4423-841c-ecb4fd34ee09",
   "metadata": {},
   "outputs": [
    {
     "name": "stdout",
     "output_type": "stream",
     "text": [
      "\u001b[0m\u001b[?25h\u001b[Ktree 1.8.0+pkg-3fd6 已从 林博仁(Buo-ren, Lin) (brlin\u001b[32m\u001b[0m) 安装      |0\u001b[0m7ms\u001b[?25l\n"
     ]
    }
   ],
   "source": [
    "!sudo snap install tree"
   ]
  },
  {
   "cell_type": "code",
   "execution_count": 13,
   "id": "00bb2504-b4f5-40c9-9572-7c9123d3b38d",
   "metadata": {},
   "outputs": [
    {
     "name": "stdout",
     "output_type": "stream",
     "text": [
      "\u001b[01;34mjiyouguan_split\u001b[00m\n",
      "├── \u001b[01;34mtrain\u001b[00m\n",
      "│   ├── \u001b[01;34mbody_broken\u001b[00m\n",
      "│   ├── \u001b[01;34mnormal\u001b[00m\n",
      "│   ├── \u001b[01;34mside_broken\u001b[00m\n",
      "│   └── \u001b[01;34mtop_broken\u001b[00m\n",
      "└── \u001b[01;34mval\u001b[00m\n",
      "    ├── \u001b[01;34mbody_broken\u001b[00m\n",
      "    ├── \u001b[01;34mnormal\u001b[00m\n",
      "    ├── \u001b[01;34mside_broken\u001b[00m\n",
      "    └── \u001b[01;34mtop_broken\u001b[00m\n",
      "\n",
      "10 directories, 0 files\n"
     ]
    }
   ],
   "source": [
    "!tree jiyouguan_split -L 2"
   ]
  },
  {
   "cell_type": "code",
   "execution_count": null,
   "id": "4f3febba-135e-4502-b83c-0d377a517713",
   "metadata": {},
   "outputs": [],
   "source": []
  }
 ],
 "metadata": {
  "kernelspec": {
   "display_name": "Python 3 (ipykernel)",
   "language": "python",
   "name": "python3"
  },
  "language_info": {
   "codemirror_mode": {
    "name": "ipython",
    "version": 3
   },
   "file_extension": ".py",
   "mimetype": "text/x-python",
   "name": "python",
   "nbconvert_exporter": "python",
   "pygments_lexer": "ipython3",
   "version": "3.9.13"
  }
 },
 "nbformat": 4,
 "nbformat_minor": 5
}
